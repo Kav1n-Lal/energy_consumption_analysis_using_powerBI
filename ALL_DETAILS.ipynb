{
 "cells": [
  {
   "cell_type": "code",
   "execution_count": 1,
   "id": "bbf6416f-16a3-4e45-aadf-bb8c5a82ffd6",
   "metadata": {},
   "outputs": [],
   "source": [
    "import pandas as pd"
   ]
  },
  {
   "cell_type": "code",
   "execution_count": 2,
   "id": "46aefbcf-b478-471f-9e42-8171a43683ac",
   "metadata": {},
   "outputs": [],
   "source": [
    "df1=pd.read_csv('final_muncipal.csv')\n",
    "df2=pd.read_csv('final_school.csv')\n",
    "df3=pd.read_csv('final_education.csv')\n",
    "df4=pd.read_csv('final_public.csv')"
   ]
  },
  {
   "cell_type": "code",
   "execution_count": 3,
   "id": "a6ad044e-c285-4dd5-af41-2b3167b1af4a",
   "metadata": {},
   "outputs": [
    {
     "name": "stdout",
     "output_type": "stream",
     "text": [
      "length: 15\n",
      "Index(['Unnamed: 0.1', 'Unnamed: 0', 'Sector', 'Sub Sector', 'Organization',\n",
      "       'Operation', 'Operation Type', 'Address', 'City', 'Postal Code',\n",
      "       'GHG Emissions (kg)', 'Energy Intensity (eWh/HDD/sq. ft)',\n",
      "       'Energy Intensity (ekWh/ML)', 'Year', 'Unnamed: 11'],\n",
      "      dtype='object')\n",
      "length: 14\n",
      "Index(['Unnamed: 0.1', 'Unnamed: 0', 'Sector', 'Sub Sector', 'Organization',\n",
      "       'Operation', 'Operation Type', 'Address', 'City', 'Postal Code',\n",
      "       'GHG Emissions (kg)', 'Energy Intensity (eWh/HDD/sq. ft)',\n",
      "       'Energy Intensity (ekWh/ML)', 'Year'],\n",
      "      dtype='object')\n",
      "length: 14\n",
      "Index(['Unnamed: 0.1', 'Unnamed: 0', 'Sector', 'Sub Sector', 'Organization',\n",
      "       'Operation', 'Operation Type', 'Address', 'City', 'Postal Code',\n",
      "       'GHG Emissions (kg)', 'Energy Intensity (eWh/HDD/sq. ft)',\n",
      "       'Energy Intensity (ekWh/ML)', 'Year'],\n",
      "      dtype='object')\n",
      "length: 14\n",
      "Index(['Unnamed: 0.1', 'Unnamed: 0', 'Sector', 'Sub Sector', 'Organization',\n",
      "       'Operation', 'Operation Type', 'Address', 'City', 'Postal Code',\n",
      "       'GHG Emissions (kg)', 'Energy Intensity (eWh/HDD/sq. ft)',\n",
      "       'Energy Intensity (ekWh/ML)', 'Year'],\n",
      "      dtype='object')\n"
     ]
    }
   ],
   "source": [
    "h=[df1,df2,df3,df4]\n",
    "for i in h:\n",
    "    print('length:',len(i.columns))\n",
    "    print(i.columns)"
   ]
  },
  {
   "cell_type": "code",
   "execution_count": 4,
   "id": "da1a503d-c331-4803-a1aa-b5688268dd8d",
   "metadata": {},
   "outputs": [],
   "source": [
    "df1=df1[['Unnamed: 0.1', 'Unnamed: 0', 'Sector', 'Sub Sector', 'Organization',\n",
    "       'Operation', 'Operation Type', 'Address', 'City', 'Postal Code',\n",
    "       'GHG Emissions (kg)', 'Energy Intensity (eWh/HDD/sq. ft)',\n",
    "       'Energy Intensity (ekWh/ML)', 'Year']]"
   ]
  },
  {
   "cell_type": "code",
   "execution_count": 5,
   "id": "c4f5835d-a793-4979-9876-06471b01b1bc",
   "metadata": {},
   "outputs": [
    {
     "data": {
      "text/plain": [
       "(173840, 14)"
      ]
     },
     "execution_count": 5,
     "metadata": {},
     "output_type": "execute_result"
    }
   ],
   "source": [
    "cleaned = pd.concat([df1,df2,df3,df4], ignore_index=True)\n",
    "cleaned.shape"
   ]
  },
  {
   "cell_type": "code",
   "execution_count": 6,
   "id": "f070ca1b-6797-4538-aebc-684ea3578b39",
   "metadata": {},
   "outputs": [],
   "source": [
    "cleaned.to_csv('all_details_2011-20.csv',encoding='utf-8')"
   ]
  }
 ],
 "metadata": {
  "kernelspec": {
   "display_name": "Python 3 (ipykernel)",
   "language": "python",
   "name": "python3"
  },
  "language_info": {
   "codemirror_mode": {
    "name": "ipython",
    "version": 3
   },
   "file_extension": ".py",
   "mimetype": "text/x-python",
   "name": "python",
   "nbconvert_exporter": "python",
   "pygments_lexer": "ipython3",
   "version": "3.9.18"
  }
 },
 "nbformat": 4,
 "nbformat_minor": 5
}
